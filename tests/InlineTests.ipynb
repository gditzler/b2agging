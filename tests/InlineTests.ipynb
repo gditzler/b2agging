{
 "metadata": {
  "name": "",
  "signature": "sha256:17236b9edb790a63805bb98485db0681143412db4080b546bbd8791ca28d983c"
 },
 "nbformat": 3,
 "nbformat_minor": 0,
 "worksheets": [
  {
   "cells": [
    {
     "cell_type": "markdown",
     "metadata": {},
     "source": [
      "The sole purpose of this notebook is to debug... Most people may not find this stuff too useful"
     ]
    },
    {
     "cell_type": "code",
     "collapsed": false,
     "input": [
      "# program wide imports\n",
      "import numpy as np\n",
      "import sys\n",
      "import pickle\n",
      "sys.path.append(\"../b2ag/\")"
     ],
     "language": "python",
     "metadata": {},
     "outputs": []
    },
    {
     "cell_type": "code",
     "collapsed": false,
     "input": [
      "# evaluate the paramters file import functionality\n",
      "import file_io\n",
      "file_io = reload(file_io) \n",
      "params = file_io.load_parameter_file(\"../data/parameters.txt\")\n",
      "print params"
     ],
     "language": "python",
     "metadata": {},
     "outputs": []
    },
    {
     "cell_type": "code",
     "collapsed": false,
     "input": [
      "# evaluate loading a file\n",
      "import file_io\n",
      "file_io = reload(file_io)\n",
      "data, labels = file_io.load_table(\"../data/digit-raw.csv\")\n",
      "print \"Data Samples: \",len(data),\" of \",len(labels)\n",
      "print \"Features: \",len(data[0])\n",
      "print \"Classes: \",len(np.unique(labels))"
     ],
     "language": "python",
     "metadata": {},
     "outputs": []
    },
    {
     "cell_type": "code",
     "collapsed": false,
     "input": [
      "# write a pickle\n",
      "# evaluate loading a file\n",
      "import file_io\n",
      "file_io = reload(file_io)\n",
      "data, labels = file_io.load_table(\"../data/digit-raw.csv\")\n",
      "pickle.dump({\"data\":data,\"labels\":labels}, open(\"../data/digit-raw.pkl\", \"w\"))\n",
      "data2, labels2 = file_io.load_pickle(\"../data/digit-raw.pkl\")\n",
      "\n",
      "print \"Data Samples: \",len(data2),\" of \",len(labels2)\n",
      "print \"Features: \",len(data2[0])\n",
      "print \"Classes: \",len(np.unique(labels2))"
     ],
     "language": "python",
     "metadata": {},
     "outputs": []
    },
    {
     "cell_type": "code",
     "collapsed": false,
     "input": [
      "# test single classifier (from parameters.txt)\n",
      "import file_io\n",
      "import classifiers \n",
      "file_io = reload(file_io)\n",
      "classifiers = reload(classifiers)\n",
      "data, labels = file_io.load_pickle(\"../data/digit-raw.pkl\")\n",
      "params = file_io.load_parameter_file(\"../data/parameters.txt\")\n",
      "mdl = classifiers.base_model(params)\n",
      "mdl.fit(data[:1000,:],labels[:1000])\n",
      "y = mdl.predict(data[1001:,:])\n",
      "p = mdl.predict(data[1001:,:],probs=True)\n",
      "print mdl.predict_error(data[1001:,:],labels[1001:])\n",
      "print mdl.params"
     ],
     "language": "python",
     "metadata": {},
     "outputs": []
    },
    {
     "cell_type": "code",
     "collapsed": false,
     "input": [
      "# test load a mat file\n",
      "import file_io\n",
      "file_io = reload(file_io)\n",
      "data, labels = file_io.load_mat(\"../data/breastEW.mat\")\n",
      "print \"Data Samples: \",len(data),\" of \",len(labels)\n",
      "print \"Features: \",len(data[0])\n",
      "print \"Classes: \",len(np.unique(labels))"
     ],
     "language": "python",
     "metadata": {},
     "outputs": []
    },
    {
     "cell_type": "code",
     "collapsed": false,
     "input": [
      "# test single classifier (cart)\n",
      "import file_io\n",
      "import classifiers \n",
      "file_io = reload(file_io)\n",
      "classifiers = reload(classifiers)\n",
      "data, labels = file_io.load_pickle(\"../data/digit-raw.pkl\")\n",
      "params = {\"type\":\"cart\"}\n",
      "mdl = classifiers.base_model(params)\n",
      "mdl.fit(data[:1000,:],labels[:1000])\n",
      "y = mdl.predict(data[1001:,:])\n",
      "p = mdl.predict(data[1001:,:],probs=True)\n",
      "print mdl.predict_error(data[1001:,:],labels[1001:])\n",
      "print mdl.params"
     ],
     "language": "python",
     "metadata": {},
     "outputs": []
    },
    {
     "cell_type": "code",
     "collapsed": false,
     "input": [
      "# test single classifier (knn)\n",
      "import file_io\n",
      "import classifiers \n",
      "file_io = reload(file_io)\n",
      "classifiers = reload(classifiers)\n",
      "data, labels = file_io.load_pickle(\"../data/digit-raw.pkl\")\n",
      "params = {\"type\":\"knn\",\"n_neighbors\":7}\n",
      "mdl = classifiers.base_model(params)\n",
      "mdl.fit(data[:1000,:],labels[:1000])\n",
      "y = mdl.predict(data[1001:,:])\n",
      "p = mdl.predict(data[1001:,:],probs=True)\n",
      "print mdl.predict_error(data[1001:,:],labels[1001:])\n",
      "print mdl.params"
     ],
     "language": "python",
     "metadata": {},
     "outputs": []
    },
    {
     "cell_type": "code",
     "collapsed": false,
     "input": [
      "# test b2ag\n",
      "import file_io\n",
      "import numpy as np\n",
      "import classifiers\n",
      "file_io = reload(file_io)\n",
      "classifiers = reload(classifiers)\n",
      "data, labels = file_io.load_pickle(\"../data/digit-raw.pkl\")\n",
      "n_models=3\n",
      "params={\"type\":\"lr\"}\n",
      "percent_train=1.\n",
      "percent_eval=1.\n",
      "ens = classifiers.b2ag(n_models=n_models,params=params,percent_train=percent_train,percent_eval=percent_eval)\n",
      "ens = ens.fit(data[:1000,:],labels[:1000])\n",
      "confidence,error_bar = ens.predict(data[1001:,:])\n",
      "print confidence[0], np.argmax(confidence[0]), labels[1001]\n",
      "print error_bar[0]"
     ],
     "language": "python",
     "metadata": {},
     "outputs": []
    },
    {
     "cell_type": "code",
     "collapsed": false,
     "input": [],
     "language": "python",
     "metadata": {},
     "outputs": []
    }
   ],
   "metadata": {}
  }
 ]
}